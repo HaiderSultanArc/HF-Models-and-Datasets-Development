{
 "cells": [
  {
   "cell_type": "code",
   "execution_count": 1,
   "metadata": {},
   "outputs": [],
   "source": [
    "import datasets"
   ]
  },
  {
   "cell_type": "code",
   "execution_count": 2,
   "metadata": {},
   "outputs": [],
   "source": [
    "dataset_name = \"opus100\"\n",
    "cache_dir = \"./cache/\" + dataset_name\n",
    "\n",
    "opus100_dataset = datasets.load_dataset(dataset_name, \"en-ur\", cache_dir=cache_dir)"
   ]
  },
  {
   "cell_type": "code",
   "execution_count": 3,
   "metadata": {},
   "outputs": [
    {
     "name": "stderr",
     "output_type": "stream",
     "text": [
      "Saving the dataset (1/1 shards): 100%|██████████| 2000/2000 [00:00<00:00, 371802.50 examples/s]\n",
      "Saving the dataset (1/1 shards): 100%|██████████| 753913/753913 [00:00<00:00, 1159493.42 examples/s]\n",
      "Saving the dataset (1/1 shards): 100%|██████████| 2000/2000 [00:00<00:00, 457968.44 examples/s]\n"
     ]
    }
   ],
   "source": [
    "opus100_dataset.save_to_disk(\"./datasets/urdu-english-opus100\")"
   ]
  },
  {
   "cell_type": "code",
   "execution_count": 4,
   "metadata": {},
   "outputs": [],
   "source": [
    "dataset2_name = \"yhavinga/ccmatrix\"\n",
    "cache_dir = \"./cache/\" + dataset2_name\n",
    "\n",
    "ccmatrix_dataset = datasets.load_dataset(dataset2_name, \"en-ur\", cache_dir=cache_dir)"
   ]
  },
  {
   "cell_type": "code",
   "execution_count": 5,
   "metadata": {},
   "outputs": [
    {
     "name": "stderr",
     "output_type": "stream",
     "text": [
      "Saving the dataset (3/3 shards): 100%|██████████| 6094149/6094149 [00:04<00:00, 1441672.50 examples/s]\n"
     ]
    }
   ],
   "source": [
    "ccmatrix_dataset.save_to_disk(\"./datasets/urdu-english-ccmatrix\")"
   ]
  },
  {
   "cell_type": "code",
   "execution_count": 6,
   "metadata": {},
   "outputs": [],
   "source": [
    "dataset3_name = \"gsarti/flores_101\"\n",
    "cache_dir = \"./cache/\" + dataset3_name\n",
    "\n",
    "flores_dataset_ur = datasets.load_dataset(dataset3_name, \"urd\", cache_dir=cache_dir)\n",
    "flores_dataset_en = datasets.load_dataset(dataset3_name, \"eng\", cache_dir=cache_dir)"
   ]
  },
  {
   "cell_type": "code",
   "execution_count": 7,
   "metadata": {},
   "outputs": [
    {
     "name": "stderr",
     "output_type": "stream",
     "text": [
      "Saving the dataset (1/1 shards): 100%|██████████| 997/997 [00:00<00:00, 234862.18 examples/s]\n",
      "Saving the dataset (1/1 shards): 100%|██████████| 1012/1012 [00:00<00:00, 203501.57 examples/s]\n",
      "Saving the dataset (1/1 shards): 100%|██████████| 997/997 [00:00<00:00, 216793.05 examples/s]\n",
      "Saving the dataset (1/1 shards): 100%|██████████| 1012/1012 [00:00<00:00, 210934.54 examples/s]\n"
     ]
    }
   ],
   "source": [
    "flores_dataset_ur.save_to_disk(\"./datasets/urdu-flores_101\")\n",
    "flores_dataset_en.save_to_disk(\"./datasets/english-flores_101\")"
   ]
  },
  {
   "cell_type": "code",
   "execution_count": 8,
   "metadata": {},
   "outputs": [],
   "source": [
    "dataset4_name = \"pib\"\n",
    "cache_dir = \"./cache/\" + dataset4_name\n",
    "\n",
    "pib_dataset = datasets.load_dataset(dataset4_name, \"en-ur\", cache_dir=cache_dir)"
   ]
  },
  {
   "cell_type": "code",
   "execution_count": 9,
   "metadata": {},
   "outputs": [
    {
     "name": "stderr",
     "output_type": "stream",
     "text": [
      "Saving the dataset (1/1 shards): 100%|██████████| 202578/202578 [00:00<00:00, 986927.73 examples/s] \n"
     ]
    }
   ],
   "source": [
    "pib_dataset.save_to_disk(\"./datasets/urdu-english-pib\")"
   ]
  },
  {
   "cell_type": "code",
   "execution_count": 14,
   "metadata": {},
   "outputs": [
    {
     "name": "stderr",
     "output_type": "stream",
     "text": [
      "Downloading builder script: 100%|██████████| 7.59k/7.59k [00:00<00:00, 16.4MB/s]\n",
      "Downloading readme: 100%|██████████| 7.55k/7.55k [00:00<00:00, 10.7MB/s]\n",
      "Downloading data: 100%|██████████| 3.36M/3.36M [00:00<00:00, 6.32MB/s]\n",
      "Generating gen split: 1024 examples [00:00, 14198.15 examples/s]\n"
     ]
    }
   ],
   "source": [
    "dataset4_name = \"ai4bharat/IN22-Gen\"\n",
    "cache_dir = \"./cache/\" + dataset4_name\n",
    "\n",
    "in22_gen_dataset = datasets.load_dataset(dataset4_name, \"urd_Arab\", cache_dir=cache_dir)"
   ]
  },
  {
   "cell_type": "code",
   "execution_count": 16,
   "metadata": {},
   "outputs": [
    {
     "name": "stderr",
     "output_type": "stream",
     "text": [
      "Saving the dataset (1/1 shards): 100%|██████████| 1024/1024 [00:00<00:00, 140657.19 examples/s]\n"
     ]
    }
   ],
   "source": [
    "in22_gen_dataset.save_to_disk(\"./datasets/urdu-english-in22_gen\")"
   ]
  },
  {
   "cell_type": "code",
   "execution_count": 32,
   "metadata": {},
   "outputs": [
    {
     "data": {
      "text/plain": [
       "{'en': 'Yet, remember, as We communed with Moses for forty nights you took the calf in his absence (and worshipped it), and you did wrong.',\n",
       " 'ur': 'اورجب ہم نے موسیٰ سے چالیس رات کا وعدہ کیا پھر اس کے بعد تم نے بچھڑا بنا لیا حالانکہ تم ظالم تھے'}"
      ]
     },
     "execution_count": 32,
     "metadata": {},
     "output_type": "execute_result"
    }
   ],
   "source": [
    "opus100_dataset[\"train\"][\"translation\"][0]"
   ]
  },
  {
   "cell_type": "code",
   "execution_count": 37,
   "metadata": {},
   "outputs": [
    {
     "data": {
      "text/plain": [
       "{'en': 'Say, “No, by my Lord, the knower of the unseen, it will certainly come',\n",
       " 'ur': 'کہو، قسم ہے میرے عالم الغیب پروردگار کی، وہ ضرور آئے گی‘‘ (سبأ: 3)'}"
      ]
     },
     "execution_count": 37,
     "metadata": {},
     "output_type": "execute_result"
    }
   ],
   "source": [
    "ccmatrix_dataset[\"train\"][\"translation\"][0]"
   ]
  },
  {
   "cell_type": "code",
   "execution_count": 44,
   "metadata": {},
   "outputs": [
    {
     "data": {
      "text/plain": [
       "{'en': 'Ministry of Defence First Nine Celebrates 200 Years First Battalion of the Ninth Gorkhas was raised by the British in 1817 as the Fatehgarh Levy and it celebrated 200 years of its raising on the 16th of March 2017 at Secunderabad.',\n",
       " 'ur': 'وزارت دفاع نویں گورکھا رائفلز کی پہلی بٹالین کے 200 برس مکمل ہوئے نئی دہلی۔23مارچ۔نویں گورکھا رائفلز کی پہلی بٹالین ،برطانوی حکومت کے اقتدار کے دوران 1817 میں ’فتح گڑھ لیوی ‘کے نام سے قائم ہوئی تھی اور 16مارچ 2017 کو اس بٹالین نے اپنے قیام کے 200 برس مکمل ہونے کا جشن سکندر آباد میں منایا ہے۔'}"
      ]
     },
     "execution_count": 44,
     "metadata": {},
     "output_type": "execute_result"
    }
   ],
   "source": [
    "pib_dataset[\"train\"][\"translation\"][0]"
   ]
  },
  {
   "cell_type": "code",
   "execution_count": 50,
   "metadata": {},
   "outputs": [
    {
     "data": {
      "text/plain": [
       "{'en': 'On Monday, scientists from the Stanford University School of Medicine announced the invention of a new diagnostic tool that can sort cells by type: a tiny printable chip that can be manufactured using standard inkjet printers for possibly about one U.S. cent each.',\n",
       " 'ur': 'پیر کے روز، سٹینفورڈ اسکول آف میڈیسن کے سائنسدانوں نے ایک جدید تشخیصی آلہ دریافت کرنے کا اعلان کیا ہے جو خلیوں کو اس کی اقسام کے لحاظ سے ترتیب دے سکتا ہے: یہ ایک چھوٹی سی پرنٹیبل چپ ہے جو غالباً ایک امریکی سنٹ میں معیاری انک جیٹ پرنٹرز کا استعمال کر کے تیار کی جا سکتی ہے-'}"
      ]
     },
     "execution_count": 50,
     "metadata": {},
     "output_type": "execute_result"
    }
   ],
   "source": [
    "temp_flores = {\n",
    "    \"en\": flores_dataset_en[\"dev\"][\"sentence\"][0],\n",
    "    \"ur\": flores_dataset_ur[\"dev\"][\"sentence\"][0],\n",
    "}\n",
    "\n",
    "temp_flores"
   ]
  },
  {
   "cell_type": "code",
   "execution_count": 42,
   "metadata": {},
   "outputs": [
    {
     "data": {
      "text/plain": [
       "{'en': 'A uniform is often viewed as projecting a positive image of an organisation. Maintaining personal hygiene is also an important aspect of personal appearance and dressing. An appearance is a bunch of attributes related with the service person, like their shoes, clothes, tie, jewellery, hairstyle, make-up, watch, cosmetics, perfume, etc.',\n",
       " 'ur': 'ظاہری صورت ملازم سے متعلق خصوصیات کا مجموعہ ہوتی ہے، جیسے ان کے جوتے، کپڑے، ٹائی، زیورات، بالوں کا انداز، میک اپ، گھڑی، کاسمیٹکس، عطر، وغیرہ۔'}"
      ]
     },
     "execution_count": 42,
     "metadata": {},
     "output_type": "execute_result"
    }
   ],
   "source": [
    "temp_in22_gen = {\n",
    "    \"en\": in22_gen_dataset[\"gen\"][\"context\"][0],\n",
    "    \"ur\": in22_gen_dataset[\"gen\"][\"sentence\"][0],\n",
    "}\n",
    "\n",
    "temp_in22_gen"
   ]
  },
  {
   "cell_type": "code",
   "execution_count": 51,
   "metadata": {},
   "outputs": [],
   "source": [
    "flores_dataset = {\n",
    "    \"translation\": []\n",
    "}\n",
    "\n",
    "for i in range(len(flores_dataset_en[\"dev\"][\"sentence\"])):\n",
    "    flores_dataset[\"translation\"].append({\n",
    "        \"en\": flores_dataset_en[\"dev\"][\"sentence\"][i],\n",
    "        \"ur\": flores_dataset_ur[\"dev\"][\"sentence\"][i],\n",
    "    })\n",
    "\n",
    "for i in range(len(flores_dataset_en[\"devtest\"][\"sentence\"])):\n",
    "    flores_dataset[\"translation\"].append({\n",
    "        \"en\": flores_dataset_en[\"devtest\"][\"sentence\"][i],\n",
    "        \"ur\": flores_dataset_ur[\"devtest\"][\"sentence\"][i],\n",
    "    })"
   ]
  },
  {
   "cell_type": "code",
   "execution_count": 53,
   "metadata": {},
   "outputs": [],
   "source": [
    "in22_dataset = {\n",
    "    \"translation\": []\n",
    "}\n",
    "\n",
    "for i in range(len(in22_gen_dataset[\"gen\"][\"context\"])):\n",
    "    in22_dataset[\"translation\"].append({\n",
    "        \"en\": in22_gen_dataset[\"gen\"][\"context\"][i],\n",
    "        \"ur\": in22_gen_dataset[\"gen\"][\"sentence\"][i],\n",
    "    })"
   ]
  },
  {
   "cell_type": "code",
   "execution_count": 34,
   "metadata": {},
   "outputs": [],
   "source": [
    "combined_dataset = {\n",
    "    \"translation\": []\n",
    "}"
   ]
  },
  {
   "cell_type": "code",
   "execution_count": 54,
   "metadata": {},
   "outputs": [],
   "source": [
    "combined_dataset[\"translation\"] = [obj for obj in opus100_dataset[\"train\"][\"translation\"]]\n",
    "combined_dataset[\"translation\"] += [obj for obj in opus100_dataset[\"validation\"][\"translation\"]]\n",
    "combined_dataset[\"translation\"] += [obj for obj in opus100_dataset[\"test\"][\"translation\"]]\n",
    "combined_dataset[\"translation\"] += [obj for obj in ccmatrix_dataset[\"train\"][\"translation\"]]\n",
    "combined_dataset[\"translation\"] += [obj for obj in pib_dataset[\"train\"][\"translation\"]]\n",
    "combined_dataset[\"translation\"] += [obj for obj in flores_dataset[\"translation\"]]\n",
    "combined_dataset[\"translation\"] += [obj for obj in in22_dataset[\"translation\"]]"
   ]
  },
  {
   "cell_type": "code",
   "execution_count": 62,
   "metadata": {},
   "outputs": [],
   "source": [
    "import json\n",
    "\n",
    "with open(\"./datasets/mt-urdu-english.json\", \"w\") as f:\n",
    "    json.dump(combined_dataset, f, indent=4)"
   ]
  },
  {
   "cell_type": "code",
   "execution_count": 2,
   "metadata": {},
   "outputs": [],
   "source": [
    "mt_urdu_english_dataset = datasets.load_dataset(\"json\", data_files=\"./datasets/mt-urdu-english.json\", field=\"translation\")"
   ]
  },
  {
   "cell_type": "code",
   "execution_count": 3,
   "metadata": {},
   "outputs": [
    {
     "data": {
      "text/plain": [
       "'Yet, remember, as We communed with Moses for forty nights you took the calf in his absence (and worshipped it), and you did wrong.'"
      ]
     },
     "execution_count": 3,
     "metadata": {},
     "output_type": "execute_result"
    }
   ],
   "source": [
    "mt_urdu_english_dataset[\"train\"][\"en\"][0]"
   ]
  },
  {
   "cell_type": "code",
   "execution_count": 4,
   "metadata": {},
   "outputs": [
    {
     "data": {
      "text/plain": [
       "'اورجب ہم نے موسیٰ سے چالیس رات کا وعدہ کیا پھر اس کے بعد تم نے بچھڑا بنا لیا حالانکہ تم ظالم تھے'"
      ]
     },
     "execution_count": 4,
     "metadata": {},
     "output_type": "execute_result"
    }
   ],
   "source": [
    "mt_urdu_english_dataset[\"train\"][\"ur\"][0]"
   ]
  },
  {
   "cell_type": "code",
   "execution_count": 8,
   "metadata": {},
   "outputs": [],
   "source": [
    "mt_urdu_english_dataset = mt_urdu_english_dataset[\"train\"].train_test_split(test_size=0.2, shuffle=True, seed=42)"
   ]
  },
  {
   "cell_type": "code",
   "execution_count": 11,
   "metadata": {},
   "outputs": [
    {
     "data": {
      "text/plain": [
       "DatasetDict({\n",
       "    train: Dataset({\n",
       "        features: ['en', 'ur'],\n",
       "        num_rows: 5646138\n",
       "    })\n",
       "    test: Dataset({\n",
       "        features: ['en', 'ur'],\n",
       "        num_rows: 1411535\n",
       "    })\n",
       "})"
      ]
     },
     "execution_count": 11,
     "metadata": {},
     "output_type": "execute_result"
    }
   ],
   "source": [
    "mt_urdu_english_dataset"
   ]
  },
  {
   "cell_type": "code",
   "execution_count": null,
   "metadata": {},
   "outputs": [],
   "source": [
    "mt_urdu_english_dataset.push_to_hub(\n",
    "    \"HaiderSultanArc/MT-Urdu-English\",\n",
    "    token=\"ACCESS_TOKEN\"\n",
    ")"
   ]
  }
 ],
 "metadata": {
  "kernelspec": {
   "display_name": "multienv",
   "language": "python",
   "name": "python3"
  },
  "language_info": {
   "codemirror_mode": {
    "name": "ipython",
    "version": 3
   },
   "file_extension": ".py",
   "mimetype": "text/x-python",
   "name": "python",
   "nbconvert_exporter": "python",
   "pygments_lexer": "ipython3",
   "version": "3.10.0"
  }
 },
 "nbformat": 4,
 "nbformat_minor": 2
}
